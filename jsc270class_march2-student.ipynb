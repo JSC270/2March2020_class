{
 "cells": [
  {
   "cell_type": "markdown",
   "metadata": {
    "slideshow": {
     "slide_type": "slide"
    }
   },
   "source": [
    "# JSC270 Class\n",
    "## March 2, 2020\n",
    "\n",
    "### Today's Class\n",
    "\n",
    "- Survival analysis\n",
    "- Unsupervised learning - hierarchical clustering"
   ]
  },
  {
   "cell_type": "markdown",
   "metadata": {
    "slideshow": {
     "slide_type": "slide"
    }
   },
   "source": [
    "# Survival Analysis\n",
    "\n",
    "- Outcome variable: Time until an event occurs\n",
    "\n",
    "- Start follow-up $\\overset{\\text {Time}}\\longrightarrow$ Event\n",
    "\n",
    "- Event examples: death; disease; recovery; purchase.\n",
    "\n",
    "- Time is often called survival time since it's the time that an individual has survived over some follow-up period.\n"
   ]
  },
  {
   "cell_type": "markdown",
   "metadata": {
    "slideshow": {
     "slide_type": "slide"
    }
   },
   "source": [
    "# Censored Data\n",
    "\n",
    "- Censoring occurs when we have some information about individual survival time, but it's not exactly known.\n",
    "\n",
    "- Consider a person followed in a medical study until they die.  If the study ends while the patient is still alive then the patient's survival time is censored, since the person will die after the study ends.\n",
    "\n",
    "- Common reasons why censoring may occur:\n",
    "   + study ends - no event\n",
    "   + lost to follow-up\n",
    "   + withdraw from study\n"
   ]
  },
  {
   "cell_type": "markdown",
   "metadata": {
    "slideshow": {
     "slide_type": "slide"
    }
   },
   "source": [
    "# Survival in Pancreas Cancer Patients - The Cancer Genome Atlas (TCGA)\n",
    "\n",
    "![](tcga.png)"
   ]
  },
  {
   "cell_type": "markdown",
   "metadata": {
    "slideshow": {
     "slide_type": "slide"
    }
   },
   "source": [
    "## Question: How can observed survival be defined?\n",
    "\n",
    "`vital_status`: The survival state of the person registered on the protocol.\n",
    "\n",
    "`days_to_last_follow_up`: The number of days between the date used for index and to the date the patient was lost to follow-up.\n",
    "\n",
    "`days_to_death`: Number of days between the date used for index and the date from a person's date of death represented as a calculated number of days.\n",
    "\n",
    "[*Ref*](https://docs.gdc.cancer.gov/Data_Dictionary/viewer/#?view=table-entity-list&anchor=clinical)\n",
    "\n",
    "OK.  But, what is the date used for index?\n",
    "\n",
    "> Absolute dates (i.e., year, month, and day) of clinical events are considered Personally Identifiable Information, and so must be converted into periods of time relative to some index date before storing the data at the GDC. \n",
    "\n",
    "[*Ref*](https://gdc.cancer.gov/content/selecting-common-cross-study-clinical-data-elements)"
   ]
  },
  {
   "cell_type": "code",
   "execution_count": 1,
   "metadata": {
    "slideshow": {
     "slide_type": "-"
    }
   },
   "outputs": [
    {
     "data": {
      "text/html": [
       "<div>\n",
       "<style scoped>\n",
       "    .dataframe tbody tr th:only-of-type {\n",
       "        vertical-align: middle;\n",
       "    }\n",
       "\n",
       "    .dataframe tbody tr th {\n",
       "        vertical-align: top;\n",
       "    }\n",
       "\n",
       "    .dataframe thead th {\n",
       "        text-align: right;\n",
       "    }\n",
       "</style>\n",
       "<table border=\"1\" class=\"dataframe\">\n",
       "  <thead>\n",
       "    <tr style=\"text-align: right;\">\n",
       "      <th></th>\n",
       "      <th>days_to_last_follow_up</th>\n",
       "      <th>days_to_death</th>\n",
       "      <th>vital_status</th>\n",
       "    </tr>\n",
       "  </thead>\n",
       "  <tbody>\n",
       "    <tr>\n",
       "      <th>0</th>\n",
       "      <td>--</td>\n",
       "      <td>12</td>\n",
       "      <td>Dead</td>\n",
       "    </tr>\n",
       "    <tr>\n",
       "      <th>1</th>\n",
       "      <td>--</td>\n",
       "      <td>12</td>\n",
       "      <td>Dead</td>\n",
       "    </tr>\n",
       "    <tr>\n",
       "      <th>2</th>\n",
       "      <td>706</td>\n",
       "      <td>--</td>\n",
       "      <td>Alive</td>\n",
       "    </tr>\n",
       "    <tr>\n",
       "      <th>3</th>\n",
       "      <td>706</td>\n",
       "      <td>--</td>\n",
       "      <td>Alive</td>\n",
       "    </tr>\n",
       "    <tr>\n",
       "      <th>4</th>\n",
       "      <td>--</td>\n",
       "      <td>239</td>\n",
       "      <td>Dead</td>\n",
       "    </tr>\n",
       "  </tbody>\n",
       "</table>\n",
       "</div>"
      ],
      "text/plain": [
       "  days_to_last_follow_up days_to_death vital_status\n",
       "0                     --            12         Dead\n",
       "1                     --            12         Dead\n",
       "2                    706            --        Alive\n",
       "3                    706            --        Alive\n",
       "4                     --           239         Dead"
      ]
     },
     "execution_count": 1,
     "metadata": {},
     "output_type": "execute_result"
    }
   ],
   "source": [
    "import pandas as pd\n",
    "\n",
    "clinical = pd.read_table('clinical.tsv')\n",
    "clinical[['days_to_last_follow_up', 'days_to_death', 'vital_status']].head()"
   ]
  },
  {
   "cell_type": "markdown",
   "metadata": {},
   "source": [
    "# Data Wrangling\n",
    "\n",
    "- Missing values are defined as `--`.\n",
    "\n",
    "\n",
    "- How can we convert to `NaN`?"
   ]
  },
  {
   "cell_type": "code",
   "execution_count": 2,
   "metadata": {
    "hide_input": false,
    "slideshow": {
     "slide_type": "-"
    }
   },
   "outputs": [
    {
     "name": "stdout",
     "output_type": "stream",
     "text": [
      "   days_to_last_follow_up  days_to_death vital_status\n",
      "0                     NaN           12.0         Dead\n",
      "1                     NaN           12.0         Dead\n",
      "2                   706.0            NaN        Alive\n",
      "3                   706.0            NaN        Alive\n",
      "4                     NaN          239.0         Dead\n"
     ]
    }
   ],
   "source": [
    "%run clean_missing.py"
   ]
  },
  {
   "cell_type": "markdown",
   "metadata": {
    "slideshow": {
     "slide_type": "slide"
    }
   },
   "source": [
    "# Defining Survival Time\n",
    "\n",
    "**Exercise:** Create a column that corresponds to survival time."
   ]
  },
  {
   "cell_type": "code",
   "execution_count": 3,
   "metadata": {
    "hide_input": false,
    "slideshow": {
     "slide_type": "subslide"
    }
   },
   "outputs": [
    {
     "name": "stdout",
     "output_type": "stream",
     "text": [
      "   days_to_last_follow_up  days_to_death vital_status     os\n",
      "0                     NaN           12.0         Dead   12.0\n",
      "1                     NaN           12.0         Dead   12.0\n",
      "2                   706.0            NaN        Alive  706.0\n",
      "3                   706.0            NaN        Alive  706.0\n",
      "4                     NaN          239.0         Dead  239.0\n"
     ]
    }
   ],
   "source": [
    "# define observed survival\n",
    "%run survive.py"
   ]
  },
  {
   "cell_type": "markdown",
   "metadata": {},
   "source": [
    "# Survival Data - Define Censoring\n",
    "\n",
    "Define event indicator for subject $i$:\n",
    "\n",
    "$$\\delta_i=\n",
    "\\left\\{\n",
    "\t\\begin{array}{ll}\n",
    "\t\t1  & \\mbox{if death} \\\\\n",
    "\t\t0 & \\mbox{if censored}\n",
    "\t\\end{array}\n",
    "\\right. $$"
   ]
  },
  {
   "cell_type": "markdown",
   "metadata": {
    "slideshow": {
     "slide_type": "slide"
    }
   },
   "source": [
    "# Define Censoring Indicator\n"
   ]
  },
  {
   "cell_type": "code",
   "execution_count": 4,
   "metadata": {},
   "outputs": [
    {
     "data": {
      "text/html": [
       "<div>\n",
       "<style scoped>\n",
       "    .dataframe tbody tr th:only-of-type {\n",
       "        vertical-align: middle;\n",
       "    }\n",
       "\n",
       "    .dataframe tbody tr th {\n",
       "        vertical-align: top;\n",
       "    }\n",
       "\n",
       "    .dataframe thead th {\n",
       "        text-align: right;\n",
       "    }\n",
       "</style>\n",
       "<table border=\"1\" class=\"dataframe\">\n",
       "  <thead>\n",
       "    <tr style=\"text-align: right;\">\n",
       "      <th></th>\n",
       "      <th>days_to_last_follow_up</th>\n",
       "      <th>days_to_death</th>\n",
       "      <th>vital_status</th>\n",
       "      <th>os</th>\n",
       "      <th>dead</th>\n",
       "    </tr>\n",
       "  </thead>\n",
       "  <tbody>\n",
       "    <tr>\n",
       "      <th>0</th>\n",
       "      <td>NaN</td>\n",
       "      <td>12.0</td>\n",
       "      <td>Dead</td>\n",
       "      <td>12.0</td>\n",
       "      <td>1</td>\n",
       "    </tr>\n",
       "    <tr>\n",
       "      <th>1</th>\n",
       "      <td>NaN</td>\n",
       "      <td>12.0</td>\n",
       "      <td>Dead</td>\n",
       "      <td>12.0</td>\n",
       "      <td>1</td>\n",
       "    </tr>\n",
       "    <tr>\n",
       "      <th>2</th>\n",
       "      <td>706.0</td>\n",
       "      <td>NaN</td>\n",
       "      <td>Alive</td>\n",
       "      <td>706.0</td>\n",
       "      <td>0</td>\n",
       "    </tr>\n",
       "    <tr>\n",
       "      <th>3</th>\n",
       "      <td>706.0</td>\n",
       "      <td>NaN</td>\n",
       "      <td>Alive</td>\n",
       "      <td>706.0</td>\n",
       "      <td>0</td>\n",
       "    </tr>\n",
       "    <tr>\n",
       "      <th>4</th>\n",
       "      <td>NaN</td>\n",
       "      <td>239.0</td>\n",
       "      <td>Dead</td>\n",
       "      <td>239.0</td>\n",
       "      <td>1</td>\n",
       "    </tr>\n",
       "  </tbody>\n",
       "</table>\n",
       "</div>"
      ],
      "text/plain": [
       "   days_to_last_follow_up  days_to_death vital_status     os dead\n",
       "0                     NaN           12.0         Dead   12.0    1\n",
       "1                     NaN           12.0         Dead   12.0    1\n",
       "2                   706.0            NaN        Alive  706.0    0\n",
       "3                   706.0            NaN        Alive  706.0    0\n",
       "4                     NaN          239.0         Dead  239.0    1"
      ]
     },
     "execution_count": 4,
     "metadata": {},
     "output_type": "execute_result"
    }
   ],
   "source": [
    "clinical['dead'] = np.where(clinical.vital_status == 'Alive', 0, \n",
    "                            np.where(clinical.vital_status == 'Dead', 1, None))\n",
    "\n",
    "clinical[['days_to_last_follow_up', 'days_to_death', 'vital_status', 'os', 'dead']].head()"
   ]
  },
  {
   "cell_type": "markdown",
   "metadata": {
    "slideshow": {
     "slide_type": "slide"
    }
   },
   "source": [
    "# Survivor Function\n",
    "\n",
    "- Let $T \\ge 0$ be a random variable for a person's survival time.\n",
    "\n",
    "\n",
    "- $P(T>t)$ is called the survivor function.\n",
    "\n",
    "\n",
    "- Recall that the cumulative distribution function (CDF) $F(t)$ is defined as: \n",
    "\n",
    "$$F(t)=P(T \\le t).$$\n",
    "\n",
    "- A common distribution for modelling survival times is the exponential distribution $\\exp(\\lambda)$. It has pdf and CDF:\n",
    "\n",
    "$$f(t) =\\lambda \\exp(-\\lambda t), t >0, \\lambda >0,\\\\\n",
    "  F(t) = \\int_{0}^t f(u)du = 1-\\exp(-\\lambda t)$$.\n",
    "\n",
    "- The survivor function is: $S(t)=P(T>t)= 1- F(t)=\\exp(-\\lambda t)$.\n",
    "\n",
    "- A plot of the survivor function when $\\lambda =1/2$ is:\n"
   ]
  },
  {
   "cell_type": "code",
   "execution_count": 5,
   "metadata": {},
   "outputs": [
    {
     "data": {
      "image/png": "[encoded data removed]",
      "text/plain": [
       "<Figure size 1440x720 with 1 Axes>"
      ]
     },
     "metadata": {
      "needs_background": "light"
     },
     "output_type": "display_data"
    }
   ],
   "source": [
    "from scipy.stats import expon\n",
    "import matplotlib.pyplot as plt\n",
    "\n",
    "plt.figure(figsize=(20,10))\n",
    "x = np.linspace(expon.ppf(0.01,loc = 0, scale = 1/(1/2)), expon.ppf(0.99,loc = 0, scale = 1/(1/2)), 100)\n",
    "plt.plot(x, 1- expon.cdf(x,loc = 0, scale = 1/(1/2)),'b-', lw=5, alpha=0.6)\n",
    "plt.title(r'Exponential Survival Function with $\\lambda = 1/2$');"
   ]
  },
  {
   "cell_type": "markdown",
   "metadata": {},
   "source": [
    "- Observed survival function and exponential survival with $\\lambda=1/2$."
   ]
  },
  {
   "cell_type": "code",
   "execution_count": 6,
   "metadata": {},
   "outputs": [
    {
     "data": {
      "image/png": "[encoded data removed]",
      "text/plain": [
       "<Figure size 1440x720 with 1 Axes>"
      ]
     },
     "metadata": {
      "needs_background": "light"
     },
     "output_type": "display_data"
    }
   ],
   "source": [
    "plt.figure(figsize=(20,10))\n",
    "y = np.array([1, 0.8, 0.75, 0.5, 0.45, 0.3, 0.28, 0.22])\n",
    "x = np.array([0, 0.8, 1, 2.1, 2.8, 3.7, 3.9, 4.1])\n",
    "plt.step(x,y)\n",
    "plt.plot(x, 1- expon.cdf(x,loc = 0, scale = 1/(1/2)),'b-', lw=5, alpha=0.4);"
   ]
  },
  {
   "cell_type": "markdown",
   "metadata": {
    "slideshow": {
     "slide_type": "slide"
    }
   },
   "source": [
    "# Non-parametric Estimation of the Survival Function\n",
    "\n",
    "$$\\hat S(t) = \\frac{\\text{Number of individuals with survival times} > t}{\\text{Number of individuals in data set at time } t}.$$"
   ]
  },
  {
   "cell_type": "markdown",
   "metadata": {
    "slideshow": {
     "slide_type": "slide"
    }
   },
   "source": [
    "## The Kaplan-Meier estimator of $\\hat S(t)$.  \n",
    "\n",
    "- Consider time points $t_0, t_1,t_2, t_3,t_4,$ where $t_0$ denotes the beginning of the study.\n",
    "\n",
    "\n",
    "- $\\hat S(t_1) = P(T>t_1)$\n",
    "\n",
    "\n",
    "- $P(T>t_1)=P(T \\ge t_1)P(T>t_1|T \\ge t_1)$, since, if $A={T \\ge t_1}, B={T > t_1}$ and using $P(A\\cap B)=P(A)P(B|A)$ with $A \\cap B = B.$\n",
    "\n",
    "\n",
    "- $\\{T \\ge t_1\\} = \\{T > t_0\\}$ (why?), so \n",
    "\n",
    "\n",
    "- $\\hat S(t_1)= P(T>t_1)=P(T>t_0)P(T>t_1|T \\ge t_1)= \\hat S(t_0) P(T>t_1|T \\ge t_1).$\n",
    "\n",
    "\n",
    "- Iterating, we have: $\\hat S(t_{j})= \\prod_{k=1}^j P(T>t_k|T \\ge t_k)$"
   ]
  },
  {
   "cell_type": "code",
   "execution_count": 7,
   "metadata": {
    "slideshow": {
     "slide_type": "skip"
    }
   },
   "outputs": [],
   "source": [
    "import warnings\n",
    "warnings.filterwarnings('ignore')"
   ]
  },
  {
   "cell_type": "code",
   "execution_count": 8,
   "metadata": {
    "slideshow": {
     "slide_type": "slide"
    }
   },
   "outputs": [
    {
     "data": {
      "image/png": "[encoded data removed]",
      "text/plain": [
       "<Figure size 432x288 with 1 Axes>"
      ]
     },
     "metadata": {
      "needs_background": "light"
     },
     "output_type": "display_data"
    }
   ],
   "source": [
    "from lifelines import KaplanMeierFitter\n",
    "\n",
    "# remove missing values from dataframe\n",
    "clin_km = clinical[['os','dead', 'gender']].dropna()\n",
    "\n",
    "kmf = KaplanMeierFitter()\n",
    "kmf.fit(clin_km['os'], event_observed=clin_km['dead'])  \n",
    "kmf.plot_survival_function(ci_show=False);"
   ]
  },
  {
   "cell_type": "code",
   "execution_count": 9,
   "metadata": {
    "slideshow": {
     "slide_type": "slide"
    }
   },
   "outputs": [
    {
     "data": {
      "text/html": [
       "<div>\n",
       "<style scoped>\n",
       "    .dataframe tbody tr th:only-of-type {\n",
       "        vertical-align: middle;\n",
       "    }\n",
       "\n",
       "    .dataframe tbody tr th {\n",
       "        vertical-align: top;\n",
       "    }\n",
       "\n",
       "    .dataframe thead th {\n",
       "        text-align: right;\n",
       "    }\n",
       "</style>\n",
       "<table border=\"1\" class=\"dataframe\">\n",
       "  <thead>\n",
       "    <tr style=\"text-align: right;\">\n",
       "      <th></th>\n",
       "      <th>event_at</th>\n",
       "      <th>removed</th>\n",
       "      <th>observed</th>\n",
       "      <th>censored</th>\n",
       "      <th>entrance</th>\n",
       "      <th>at_risk</th>\n",
       "      <th>KM_estimate</th>\n",
       "    </tr>\n",
       "  </thead>\n",
       "  <tbody>\n",
       "    <tr>\n",
       "      <th>0</th>\n",
       "      <td>0.0</td>\n",
       "      <td>0</td>\n",
       "      <td>0</td>\n",
       "      <td>0</td>\n",
       "      <td>352</td>\n",
       "      <td>352</td>\n",
       "      <td>1.000000</td>\n",
       "    </tr>\n",
       "    <tr>\n",
       "      <th>1</th>\n",
       "      <td>4.0</td>\n",
       "      <td>2</td>\n",
       "      <td>0</td>\n",
       "      <td>2</td>\n",
       "      <td>0</td>\n",
       "      <td>352</td>\n",
       "      <td>1.000000</td>\n",
       "    </tr>\n",
       "    <tr>\n",
       "      <th>2</th>\n",
       "      <td>7.0</td>\n",
       "      <td>2</td>\n",
       "      <td>0</td>\n",
       "      <td>2</td>\n",
       "      <td>0</td>\n",
       "      <td>350</td>\n",
       "      <td>1.000000</td>\n",
       "    </tr>\n",
       "    <tr>\n",
       "      <th>3</th>\n",
       "      <td>8.0</td>\n",
       "      <td>2</td>\n",
       "      <td>0</td>\n",
       "      <td>2</td>\n",
       "      <td>0</td>\n",
       "      <td>348</td>\n",
       "      <td>1.000000</td>\n",
       "    </tr>\n",
       "    <tr>\n",
       "      <th>4</th>\n",
       "      <td>9.0</td>\n",
       "      <td>2</td>\n",
       "      <td>0</td>\n",
       "      <td>2</td>\n",
       "      <td>0</td>\n",
       "      <td>346</td>\n",
       "      <td>1.000000</td>\n",
       "    </tr>\n",
       "    <tr>\n",
       "      <th>5</th>\n",
       "      <td>12.0</td>\n",
       "      <td>2</td>\n",
       "      <td>2</td>\n",
       "      <td>0</td>\n",
       "      <td>0</td>\n",
       "      <td>344</td>\n",
       "      <td>0.994186</td>\n",
       "    </tr>\n",
       "    <tr>\n",
       "      <th>6</th>\n",
       "      <td>31.0</td>\n",
       "      <td>2</td>\n",
       "      <td>2</td>\n",
       "      <td>0</td>\n",
       "      <td>0</td>\n",
       "      <td>342</td>\n",
       "      <td>0.988372</td>\n",
       "    </tr>\n",
       "    <tr>\n",
       "      <th>7</th>\n",
       "      <td>33.0</td>\n",
       "      <td>2</td>\n",
       "      <td>0</td>\n",
       "      <td>2</td>\n",
       "      <td>0</td>\n",
       "      <td>340</td>\n",
       "      <td>0.988372</td>\n",
       "    </tr>\n",
       "    <tr>\n",
       "      <th>8</th>\n",
       "      <td>41.0</td>\n",
       "      <td>2</td>\n",
       "      <td>2</td>\n",
       "      <td>0</td>\n",
       "      <td>0</td>\n",
       "      <td>338</td>\n",
       "      <td>0.982524</td>\n",
       "    </tr>\n",
       "    <tr>\n",
       "      <th>9</th>\n",
       "      <td>66.0</td>\n",
       "      <td>2</td>\n",
       "      <td>2</td>\n",
       "      <td>0</td>\n",
       "      <td>0</td>\n",
       "      <td>336</td>\n",
       "      <td>0.976675</td>\n",
       "    </tr>\n",
       "  </tbody>\n",
       "</table>\n",
       "</div>"
      ],
      "text/plain": [
       "   event_at  removed  observed  censored  entrance  at_risk  KM_estimate\n",
       "0       0.0        0         0         0       352      352     1.000000\n",
       "1       4.0        2         0         2         0      352     1.000000\n",
       "2       7.0        2         0         2         0      350     1.000000\n",
       "3       8.0        2         0         2         0      348     1.000000\n",
       "4       9.0        2         0         2         0      346     1.000000\n",
       "5      12.0        2         2         0         0      344     0.994186\n",
       "6      31.0        2         2         0         0      342     0.988372\n",
       "7      33.0        2         0         2         0      340     0.988372\n",
       "8      41.0        2         2         0         0      338     0.982524\n",
       "9      66.0        2         2         0         0      336     0.976675"
      ]
     },
     "execution_count": 9,
     "metadata": {},
     "output_type": "execute_result"
    }
   ],
   "source": [
    "from lifelines.utils import survival_table_from_events\n",
    "\n",
    "# survival table\n",
    "table = survival_table_from_events(clin_km['os'], event_observed=clin_km['dead'])\n",
    "eventab = table.head(n=10) \n",
    "eventab.reset_index(inplace=True) # save index as column\n",
    "\n",
    "# km estimates\n",
    "survtab = kmf.fit(clin_km['os'], event_observed=clin_km['dead']).survival_function_.head(n=10)\n",
    "survtab.reset_index(inplace=True)\n",
    "eventab.merge(survtab, left_on='event_at', right_on='timeline').drop(['timeline'], axis=1)"
   ]
  },
  {
   "cell_type": "markdown",
   "metadata": {},
   "source": [
    "**exercise:** calculate the KM estimate at time 31."
   ]
  },
  {
   "cell_type": "markdown",
   "metadata": {
    "hide_input": false,
    "slideshow": {
     "slide_type": "slide"
    }
   },
   "source": [
    "# Comparing Kaplan-Meier Curves"
   ]
  },
  {
   "cell_type": "code",
   "execution_count": 10,
   "metadata": {
    "hide_input": false
   },
   "outputs": [
    {
     "data": {
      "image/png": "[encoded data removed]",
      "text/plain": [
       "<Figure size 432x288 with 2 Axes>"
      ]
     },
     "metadata": {
      "needs_background": "light"
     },
     "output_type": "display_data"
    }
   ],
   "source": [
    "from lifelines.plotting import add_at_risk_counts\n",
    "\n",
    "male = (clin_km['gender'] == 'male')\n",
    "female = (clin_km['gender'] == 'female')\n",
    "\n",
    "f1 = KaplanMeierFitter()\n",
    "f1.fit(clin_km['os'][~male], event_observed=clin_km['dead'][~male], label = 'male')  \n",
    "ax = f1.plot(ci_show=False)\n",
    "\n",
    "f2 = KaplanMeierFitter()\n",
    "f2.fit(clin_km['os'][~female], event_observed=clin_km['dead'][~female], label = 'female')  \n",
    "ax = f2.plot(ax=ax, ci_show=False)\n",
    "\n",
    "add_at_risk_counts(f1, f2);"
   ]
  },
  {
   "cell_type": "markdown",
   "metadata": {
    "slideshow": {
     "slide_type": "subslide"
    }
   },
   "source": [
    "# Log-Rank Test\n",
    "\n",
    "**Question:** Are Kaplan-Meier (KM) curves statistically different?\n",
    "\n",
    "This corresponds to a null hypothesis $H_0:$ The KM curves are equivalent, and an alternative hypothesis $H_A:$ The KM curves are different.\n",
    "\n",
    "The log-rank test is based on a chi-square test.\n",
    "\n",
    "At time $j$ we have the $2 \\times 2$ table:\n",
    "\n",
    "| Group | Survive         | Die      |  Total        |\n",
    "|-------|-----------------|----------|----------|\n",
    "| I     | $$n_{1j}-d_{1j}$$ | $d_{1j}$ | $n_{1j}$ |\n",
    "| II    | $$n_{2j}-d_{2j}$$ | $d_{2j}$ | $n_{2j}$ |\n",
    "| Total      |  $$n_j-d_j$$    |   $d_{j}$  | $n_j$     |\n",
    "\n",
    "The log-rank is a statistical test for an association between the rows (Groups) and columns (Survival) across all the time points. "
   ]
  },
  {
   "cell_type": "markdown",
   "metadata": {
    "slideshow": {
     "slide_type": "slide"
    }
   },
   "source": [
    "# `lifelines.statistics.logrank_test`\n",
    "\n",
    "\n",
    "Compare KM survival curves between males and females."
   ]
  },
  {
   "cell_type": "code",
   "execution_count": 11,
   "metadata": {
    "slideshow": {
     "slide_type": "-"
    }
   },
   "outputs": [
    {
     "data": {
      "text/html": [
       "<div>\n",
       "<style scoped>\n",
       "    .dataframe tbody tr th:only-of-type {\n",
       "        vertical-align: middle;\n",
       "    }\n",
       "\n",
       "    .dataframe tbody tr th {\n",
       "        vertical-align: top;\n",
       "    }\n",
       "\n",
       "    .dataframe thead th {\n",
       "        text-align: right;\n",
       "    }\n",
       "</style>\n",
       "<table border=\"1\" class=\"dataframe\">\n",
       "  <tbody>\n",
       "    <tr>\n",
       "      <th>t_0</th>\n",
       "      <td>-1</td>\n",
       "    </tr>\n",
       "    <tr>\n",
       "      <th>null_distribution</th>\n",
       "      <td>chi squared</td>\n",
       "    </tr>\n",
       "    <tr>\n",
       "      <th>degrees_of_freedom</th>\n",
       "      <td>1</td>\n",
       "    </tr>\n",
       "    <tr>\n",
       "      <th>test_name</th>\n",
       "      <td>logrank_test</td>\n",
       "    </tr>\n",
       "  </tbody>\n",
       "</table>\n",
       "</div><table border=\"1\" class=\"dataframe\">\n",
       "  <thead>\n",
       "    <tr style=\"text-align: right;\">\n",
       "      <th></th>\n",
       "      <th>test_statistic</th>\n",
       "      <th>p</th>\n",
       "    </tr>\n",
       "  </thead>\n",
       "  <tbody>\n",
       "    <tr>\n",
       "      <th>0</th>\n",
       "      <td>32.43</td>\n",
       "      <td>&lt;0.005</td>\n",
       "    </tr>\n",
       "  </tbody>\n",
       "</table>"
      ],
      "text/plain": [
       "<IPython.core.display.HTML object>"
      ]
     },
     "metadata": {},
     "output_type": "display_data"
    }
   ],
   "source": [
    "from lifelines.statistics import logrank_test\n",
    "\n",
    "clin_km[clin_km['gender']=='male']['os']\n",
    "\n",
    "results = logrank_test(clin_km[clin_km['gender']=='male']['os'], \n",
    "                       clin_km[clin_km['gender']=='female']['os'], \n",
    "                       event_observed_A = clin_km[clin_km['gender']=='male']['dead'], \n",
    "                       event_observed_B = clin_km[clin_km['gender']=='female']['os'])\n",
    "results.print_summary()"
   ]
  },
  {
   "cell_type": "markdown",
   "metadata": {},
   "source": [
    "**Question:** Interpret the p-value from the log-rank test."
   ]
  },
  {
   "cell_type": "markdown",
   "metadata": {
    "slideshow": {
     "slide_type": "slide"
    }
   },
   "source": [
    "# Hierarchical Clustering"
   ]
  },
  {
   "cell_type": "code",
   "execution_count": 12,
   "metadata": {
    "hide_input": false,
    "slideshow": {
     "slide_type": "subslide"
    }
   },
   "outputs": [
    {
     "data": {
      "image/png": "[encoded data removed]",
      "text/plain": [
       "<Figure size 432x288 with 1 Axes>"
      ]
     },
     "metadata": {
      "needs_background": "light"
     },
     "output_type": "display_data"
    }
   ],
   "source": [
    "# Generate random data\n",
    "np.random.seed(6)\n",
    "X1 = np.random.normal(0,2,9)\n",
    "X2 = np.random.normal(0,1,9) + np.random.uniform(0,1,9)\n",
    "X3 = np.array((X1, X2)).T\n",
    "plt.scatter(X1, X2)\n",
    "labels = range(0, 9)\n",
    "\n",
    "# label the points\n",
    "for label, x, y in zip(labels, X1[:,], X2[:,]):\n",
    "    plt.annotate(\n",
    "        label,\n",
    "        xy=(x, y), xytext=(-3, 3),\n",
    "        textcoords='offset points', ha='right', va='bottom')\n",
    "plt.show()"
   ]
  },
  {
   "cell_type": "markdown",
   "metadata": {},
   "source": [
    "**Question:** Are there groups/clusters of points in the scatterplot? "
   ]
  },
  {
   "cell_type": "code",
   "execution_count": 13,
   "metadata": {
    "hide_input": false,
    "slideshow": {
     "slide_type": "subslide"
    }
   },
   "outputs": [
    {
     "data": {
      "image/png": "[encoded data removed]",
      "text/plain": [
       "<Figure size 720x504 with 1 Axes>"
      ]
     },
     "metadata": {
      "needs_background": "light"
     },
     "output_type": "display_data"
    }
   ],
   "source": [
    "from scipy.cluster.hierarchy import dendrogram, linkage\n",
    "from matplotlib import pyplot as plt\n",
    "\n",
    "linked = linkage(X3, 'single')\n",
    "\n",
    "labelList = range(0, 9)\n",
    "\n",
    "plt.figure(figsize=(10, 7))\n",
    "dendrogram(linked,\n",
    "            orientation='top',\n",
    "            labels=labelList,\n",
    "            distance_sort='descending',\n",
    "            show_leaf_counts=True)\n",
    "plt.show()"
   ]
  },
  {
   "cell_type": "markdown",
   "metadata": {
    "slideshow": {
     "slide_type": "slide"
    }
   },
   "source": [
    "# Hierarchical Clustering Algorithm\n",
    "\n",
    "1. Begin with $n$ observations and a measure (such as Euclidean distance) of all the 􏰁${n \\choose 2} = n(n − 1)/2$ pairwise dissimilarities. Treat each observation as its own cluster.\n",
    "\n",
    "\n",
    "2. For $i=1,\\ldots,n$:\n",
    "\n",
    "(a) Examine all pairwise inter-cluster dissimilarities among the $i$ clusters and identify the pair of clusters that are least dissimilar (that is, most similar). Fuse these two clusters. The dissimilarity between these two clusters indicates the height in the dendrogram at which the fusion should be placed.\n",
    "\n",
    "(b) Compute the new pairwise inter-cluster dissimilarities among the $i − 1$ remaining clusters."
   ]
  },
  {
   "cell_type": "markdown",
   "metadata": {
    "slideshow": {
     "slide_type": "slide"
    }
   },
   "source": [
    "# Interpreting the Dendogram\n",
    "\n",
    "\n",
    "- Observations 5 and 6 are similar to each other, since they fuse at the lowest point on the dendogram. \n",
    "\n",
    "\n",
    "- Observations 0 and 3 are also similar to each other.\n",
    "\n",
    "\n",
    "- It is tempting but incorrect to conclude from the figure that observations 1 and 4 are quite similar to each other on the basis that they are located near each other on the dendrogram.  \n",
    "\n",
    "\n",
    "- The similarity of two observations is based on the location on the vertical axis where branches containing those two observations first are fused."
   ]
  },
  {
   "cell_type": "code",
   "execution_count": 14,
   "metadata": {},
   "outputs": [
    {
     "data": {
      "image/png": "[encoded data removed]",
      "text/plain": [
       "<Figure size 432x288 with 1 Axes>"
      ]
     },
     "metadata": {
      "needs_background": "light"
     },
     "output_type": "display_data"
    }
   ],
   "source": [
    "linked = linkage(X3, 'single')\n",
    "\n",
    "labelList = range(0, 9)\n",
    "\n",
    "dendrogram(linked,\n",
    "            orientation='top',\n",
    "            labels=labelList,\n",
    "            distance_sort='descending',\n",
    "            show_leaf_counts=True)\n",
    "plt.show()"
   ]
  },
  {
   "cell_type": "code",
   "execution_count": 15,
   "metadata": {
    "slideshow": {
     "slide_type": "slide"
    }
   },
   "outputs": [
    {
     "data": {
      "text/plain": [
       "array([[ 5.        ,  6.        ,  0.68596879,  2.        ],\n",
       "       [ 8.        ,  9.        ,  1.0248863 ,  3.        ],\n",
       "       [ 0.        ,  3.        ,  1.18645962,  2.        ],\n",
       "       [ 7.        , 11.        ,  1.23314849,  3.        ],\n",
       "       [ 2.        , 10.        ,  1.41178825,  4.        ],\n",
       "       [12.        , 13.        ,  1.4152873 ,  7.        ],\n",
       "       [ 4.        , 14.        ,  2.21997246,  8.        ],\n",
       "       [ 1.        , 15.        ,  2.29682047,  9.        ]])"
      ]
     },
     "execution_count": 15,
     "metadata": {},
     "output_type": "execute_result"
    }
   ],
   "source": [
    "linked = linkage(X3, 'single')\n",
    "linked"
   ]
  },
  {
   "cell_type": "markdown",
   "metadata": {},
   "source": [
    "- `linkage()` uses calculates the distances of the clusters (starting with 9 data points) as singleton clusters). \n",
    "\n",
    "\n",
    "- In each iteration merge the two clusters which have the smallest distance according Euclidean distance. \n",
    "\n",
    "\n",
    "- At the $i^{th}$ iteration clusters with indicies `linked[i,0]` and `linked[i,1]` are combined to form a cluster.\n",
    "\n",
    "\n",
    "- If `index` $\\ge$ $n$ then the `index` refers to the cluster formed in `linkage[index-n]`."
   ]
  },
  {
   "cell_type": "code",
   "execution_count": 16,
   "metadata": {
    "slideshow": {
     "slide_type": "slide"
    }
   },
   "outputs": [
    {
     "data": {
      "text/plain": [
       "array([[ 5.        ,  6.        ,  0.68596879,  2.        ],\n",
       "       [ 8.        ,  9.        ,  1.0248863 ,  3.        ],\n",
       "       [ 0.        ,  3.        ,  1.18645962,  2.        ],\n",
       "       [ 7.        , 11.        ,  1.23314849,  3.        ],\n",
       "       [ 2.        , 10.        ,  1.41178825,  4.        ],\n",
       "       [12.        , 13.        ,  1.4152873 ,  7.        ],\n",
       "       [ 4.        , 14.        ,  2.21997246,  8.        ],\n",
       "       [ 1.        , 15.        ,  2.29682047,  9.        ]])"
      ]
     },
     "execution_count": 16,
     "metadata": {},
     "output_type": "execute_result"
    }
   ],
   "source": [
    "linked = linkage(X3, 'single')\n",
    "linked"
   ]
  },
  {
   "cell_type": "markdown",
   "metadata": {},
   "source": [
    "*For example:*\n",
    "\n",
    "- Cluster 0: `linked[0,]` indicates clusters with index 5 and 6 are merged to form one cluster.\n",
    "\n",
    "\n",
    "- Cluster 1: `linked[1,]` indicates clusters with index 8 and 0 are merged to form one cluster."
   ]
  },
  {
   "cell_type": "code",
   "execution_count": 17,
   "metadata": {
    "slideshow": {
     "slide_type": "-"
    }
   },
   "outputs": [
    {
     "name": "stdout",
     "output_type": "stream",
     "text": [
      "data: \n",
      " [[-0.62356735  0.37227696]\n",
      " [ 1.45800785  3.3676872 ]\n",
      " [ 0.43564158  1.310954  ]\n",
      " [-1.79818359  0.20505524]\n",
      " [-4.9735613   1.36256202]\n",
      " [ 1.82650304  1.06877546]\n",
      " [ 2.25412745  0.53240755]\n",
      " [-3.02818646  0.29307877]\n",
      " [ 3.27858217  0.56214769]] \n",
      " \n",
      " Euclidean dists: 0.6859687867971159 1.5379224565496714 1.0248863043766658\n"
     ]
    }
   ],
   "source": [
    "from scipy.spatial.distance import euclidean\n",
    "\n",
    "print('data: \\n',X3,'\\n \\n', \n",
    "      'Euclidean dists:',euclidean(X3[5],X3[6]),euclidean(X3[5],X3[8]), euclidean(X3[8],X3[6]) )"
   ]
  },
  {
   "cell_type": "markdown",
   "metadata": {
    "slideshow": {
     "slide_type": "slide"
    }
   },
   "source": [
    "### Question: How do we determine if a cluster should be fused with another cluster?\n",
    "\n",
    "### Answer: Linkage defines the dissimilarity between two groups of observations.\n",
    "\n",
    "- Four common types of linkage are: complete, average, single, and centroid.\n",
    "\n",
    "\n",
    "- Single linkage means compute all pairwise dissimilarities between the observations in cluster A and the observations in cluster B, and record the smallest of these dissimilarities.\n",
    "\n",
    "\n",
    "- See [ISLR (chapter 10.3) page 395](http://faculty.marshall.usc.edu/gareth-james/ISL/) for descriptions of other types of linkage."
   ]
  },
  {
   "cell_type": "markdown",
   "metadata": {
    "slideshow": {
     "slide_type": "slide"
    }
   },
   "source": [
    "# Cut The Dendogram \n",
    "\n",
    "- Determine cluster labels for each observation associated with a given cut of the dendogram."
   ]
  },
  {
   "cell_type": "code",
   "execution_count": 18,
   "metadata": {},
   "outputs": [
    {
     "data": {
      "image/png": "[encoded data removed]",
      "text/plain": [
       "<Figure size 432x288 with 1 Axes>"
      ]
     },
     "metadata": {
      "needs_background": "light"
     },
     "output_type": "display_data"
    }
   ],
   "source": [
    "linked = linkage(X3, 'single')\n",
    "labelList = range(0, 9)\n",
    "\n",
    "\n",
    "dendrogram(linked,\n",
    "            orientation='top',\n",
    "            labels=labelList,\n",
    "            distance_sort='descending',\n",
    "            show_leaf_counts=True)\n",
    "\n",
    "plt.show()"
   ]
  },
  {
   "cell_type": "code",
   "execution_count": 19,
   "metadata": {},
   "outputs": [
    {
     "data": {
      "text/html": [
       "<div>\n",
       "<style scoped>\n",
       "    .dataframe tbody tr th:only-of-type {\n",
       "        vertical-align: middle;\n",
       "    }\n",
       "\n",
       "    .dataframe tbody tr th {\n",
       "        vertical-align: top;\n",
       "    }\n",
       "\n",
       "    .dataframe thead th {\n",
       "        text-align: right;\n",
       "    }\n",
       "</style>\n",
       "<table border=\"1\" class=\"dataframe\">\n",
       "  <thead>\n",
       "    <tr style=\"text-align: right;\">\n",
       "      <th></th>\n",
       "      <th>cluster</th>\n",
       "      <th>point</th>\n",
       "      <th>X1</th>\n",
       "      <th>X2</th>\n",
       "    </tr>\n",
       "  </thead>\n",
       "  <tbody>\n",
       "    <tr>\n",
       "      <th>0</th>\n",
       "      <td>0.0</td>\n",
       "      <td>0.0</td>\n",
       "      <td>-0.623567</td>\n",
       "      <td>0.372277</td>\n",
       "    </tr>\n",
       "    <tr>\n",
       "      <th>1</th>\n",
       "      <td>1.0</td>\n",
       "      <td>1.0</td>\n",
       "      <td>1.458008</td>\n",
       "      <td>3.367687</td>\n",
       "    </tr>\n",
       "    <tr>\n",
       "      <th>2</th>\n",
       "      <td>2.0</td>\n",
       "      <td>2.0</td>\n",
       "      <td>0.435642</td>\n",
       "      <td>1.310954</td>\n",
       "    </tr>\n",
       "    <tr>\n",
       "      <th>3</th>\n",
       "      <td>0.0</td>\n",
       "      <td>3.0</td>\n",
       "      <td>-1.798184</td>\n",
       "      <td>0.205055</td>\n",
       "    </tr>\n",
       "    <tr>\n",
       "      <th>4</th>\n",
       "      <td>3.0</td>\n",
       "      <td>4.0</td>\n",
       "      <td>-4.973561</td>\n",
       "      <td>1.362562</td>\n",
       "    </tr>\n",
       "    <tr>\n",
       "      <th>5</th>\n",
       "      <td>2.0</td>\n",
       "      <td>5.0</td>\n",
       "      <td>1.826503</td>\n",
       "      <td>1.068775</td>\n",
       "    </tr>\n",
       "    <tr>\n",
       "      <th>6</th>\n",
       "      <td>2.0</td>\n",
       "      <td>6.0</td>\n",
       "      <td>2.254127</td>\n",
       "      <td>0.532408</td>\n",
       "    </tr>\n",
       "    <tr>\n",
       "      <th>7</th>\n",
       "      <td>0.0</td>\n",
       "      <td>7.0</td>\n",
       "      <td>-3.028186</td>\n",
       "      <td>0.293079</td>\n",
       "    </tr>\n",
       "    <tr>\n",
       "      <th>8</th>\n",
       "      <td>2.0</td>\n",
       "      <td>8.0</td>\n",
       "      <td>3.278582</td>\n",
       "      <td>0.562148</td>\n",
       "    </tr>\n",
       "  </tbody>\n",
       "</table>\n",
       "</div>"
      ],
      "text/plain": [
       "   cluster  point        X1        X2\n",
       "0      0.0    0.0 -0.623567  0.372277\n",
       "1      1.0    1.0  1.458008  3.367687\n",
       "2      2.0    2.0  0.435642  1.310954\n",
       "3      0.0    3.0 -1.798184  0.205055\n",
       "4      3.0    4.0 -4.973561  1.362562\n",
       "5      2.0    5.0  1.826503  1.068775\n",
       "6      2.0    6.0  2.254127  0.532408\n",
       "7      0.0    7.0 -3.028186  0.293079\n",
       "8      2.0    8.0  3.278582  0.562148"
      ]
     },
     "execution_count": 19,
     "metadata": {},
     "output_type": "execute_result"
    }
   ],
   "source": [
    "from scipy.cluster.hierarchy import cut_tree\n",
    "from numpy import ogrid\n",
    "\n",
    "num_clus = 4\n",
    "clust = cut_tree(linked, n_clusters = num_clus)\n",
    "\n",
    "tab = np.concatenate((clust, X3, ogrid[0:9,0:9][0]), axis=1)\n",
    "\n",
    "pd.DataFrame({'cluster':tab[:,0],'point':tab[:,3], 'X1':tab[:,1],'X2':tab[:,2]})\n",
    "\n"
   ]
  },
  {
   "cell_type": "markdown",
   "metadata": {
    "slideshow": {
     "slide_type": "slide"
    }
   },
   "source": [
    "# Plot the Classification"
   ]
  },
  {
   "cell_type": "code",
   "execution_count": 20,
   "metadata": {},
   "outputs": [
    {
     "data": {
      "image/png": "[encoded data removed]",
      "text/plain": [
       "<Figure size 432x288 with 1 Axes>"
      ]
     },
     "metadata": {
      "needs_background": "light"
     },
     "output_type": "display_data"
    }
   ],
   "source": [
    "clust = cut_tree(linked, n_clusters = num_clus).T[0].tolist() \n",
    "plt.scatter(X1,X2, c = clust)\n",
    "for label, x, y in zip(clust, X1[:,], X2[:,]):\n",
    "    plt.annotate(\n",
    "        label,\n",
    "        xy=(x, y), xytext=(-3, 3),\n",
    "        textcoords='offset points', ha='right', va='bottom')\n",
    "plt.show()"
   ]
  },
  {
   "cell_type": "markdown",
   "metadata": {
    "slideshow": {
     "slide_type": "slide"
    }
   },
   "source": [
    "# Finding Clusters in RNA Expression\n",
    "\n",
    "- RNA expression data is avalable for each subject in the study in a directory"
   ]
  },
  {
   "cell_type": "code",
   "execution_count": 21,
   "metadata": {},
   "outputs": [
    {
     "name": "stdout",
     "output_type": "stream",
     "text": [
      "number of gene files: 182\n"
     ]
    },
    {
     "data": {
      "text/plain": [
       "'gdc_download_20200125_191127.229504/b2d8c11f-7d98-4899-8780-0ac83feb3fa8/05f0ced5-6976-4f43-9be5-fddb3f550adf.FPKM.txt.gz'"
      ]
     },
     "execution_count": 21,
     "metadata": {},
     "output_type": "execute_result"
    }
   ],
   "source": [
    "import glob\n",
    "# get list of file names\n",
    "genefilenames = glob.glob('gdc_download_20200125_191127.229504/**/*.gz', recursive = True)\n",
    "print('number of gene files:',len(genefilenames))\n",
    "generna = genefilenames[0]\n",
    "generna"
   ]
  },
  {
   "cell_type": "markdown",
   "metadata": {
    "slideshow": {
     "slide_type": "slide"
    }
   },
   "source": [
    "# RNA Expression Data\n",
    "\n",
    "- The number of genes for each patient in the study is shown below.\n",
    "- Transform the RNA expression values using $f(x)=ln(x+1).$\n",
    "- Main question of lab: Can you identify distinct groups (biological “subtypes”) of patients with pancreas cancer, using The Cancer Genome Atlas (TCGA) transcriptome sequencing data, that have different survival times?"
   ]
  },
  {
   "cell_type": "code",
   "execution_count": 22,
   "metadata": {},
   "outputs": [
    {
     "name": "stdout",
     "output_type": "stream",
     "text": [
      "gene      60483\n",
      "rna       60483\n",
      "logrna    60483\n",
      "dtype: int64\n"
     ]
    },
    {
     "data": {
      "text/html": [
       "<div>\n",
       "<style scoped>\n",
       "    .dataframe tbody tr th:only-of-type {\n",
       "        vertical-align: middle;\n",
       "    }\n",
       "\n",
       "    .dataframe tbody tr th {\n",
       "        vertical-align: top;\n",
       "    }\n",
       "\n",
       "    .dataframe thead th {\n",
       "        text-align: right;\n",
       "    }\n",
       "</style>\n",
       "<table border=\"1\" class=\"dataframe\">\n",
       "  <thead>\n",
       "    <tr style=\"text-align: right;\">\n",
       "      <th></th>\n",
       "      <th>gene</th>\n",
       "      <th>rna</th>\n",
       "      <th>logrna</th>\n",
       "    </tr>\n",
       "  </thead>\n",
       "  <tbody>\n",
       "    <tr>\n",
       "      <th>0</th>\n",
       "      <td>ENSG00000242268.2</td>\n",
       "      <td>0.024500</td>\n",
       "      <td>0.024205</td>\n",
       "    </tr>\n",
       "    <tr>\n",
       "      <th>1</th>\n",
       "      <td>ENSG00000270112.3</td>\n",
       "      <td>0.000000</td>\n",
       "      <td>0.000000</td>\n",
       "    </tr>\n",
       "    <tr>\n",
       "      <th>2</th>\n",
       "      <td>ENSG00000167578.15</td>\n",
       "      <td>3.446283</td>\n",
       "      <td>1.492069</td>\n",
       "    </tr>\n",
       "    <tr>\n",
       "      <th>3</th>\n",
       "      <td>ENSG00000273842.1</td>\n",
       "      <td>0.000000</td>\n",
       "      <td>0.000000</td>\n",
       "    </tr>\n",
       "    <tr>\n",
       "      <th>4</th>\n",
       "      <td>ENSG00000078237.5</td>\n",
       "      <td>2.209606</td>\n",
       "      <td>1.166148</td>\n",
       "    </tr>\n",
       "  </tbody>\n",
       "</table>\n",
       "</div>"
      ],
      "text/plain": [
       "                 gene       rna    logrna\n",
       "0   ENSG00000242268.2  0.024500  0.024205\n",
       "1   ENSG00000270112.3  0.000000  0.000000\n",
       "2  ENSG00000167578.15  3.446283  1.492069\n",
       "3   ENSG00000273842.1  0.000000  0.000000\n",
       "4   ENSG00000078237.5  2.209606  1.166148"
      ]
     },
     "execution_count": 22,
     "metadata": {},
     "output_type": "execute_result"
    }
   ],
   "source": [
    "genedat = pd.read_csv(generna, sep = '\\t', header = None, names = ['gene', 'rna'] )\n",
    "\n",
    "# transform rna values \n",
    "\n",
    "genedat['logrna'] = genedat['rna'].transform(lambda x: np.log(x+1))\n",
    "print(genedat.count())\n",
    "genedat.head()"
   ]
  },
  {
   "cell_type": "code",
   "execution_count": 23,
   "metadata": {
    "slideshow": {
     "slide_type": "skip"
    }
   },
   "outputs": [
    {
     "data": {
      "text/plain": [
       "array([[0.        , 3.64766196, 1.4152873 , 1.18645962, 4.46129039,\n",
       "        2.54714646, 2.88214662, 2.40592299, 3.90676615],\n",
       "       [3.64766196, 0.        , 2.29682047, 4.53927567, 6.7368842 ,\n",
       "        2.32825769, 2.94493075, 5.43867229, 3.34447945],\n",
       "       [1.4152873 , 2.29682047, 0.        , 2.4925864 , 5.40944906,\n",
       "        1.41178825, 1.97813687, 3.61028733, 2.93990171],\n",
       "       [1.18645962, 4.53927567, 2.4925864 , 0.        , 3.37977004,\n",
       "        3.72617308, 4.06551157, 1.23314849, 5.08930895],\n",
       "       [4.46129039, 6.7368842 , 5.40944906, 3.37977004, 0.        ,\n",
       "        6.80640769, 7.2752073 , 2.21997246, 8.29087058],\n",
       "       [2.54714646, 2.32825769, 1.41178825, 3.72617308, 6.80640769,\n",
       "        0.        , 0.68596879, 4.91627049, 1.53792246],\n",
       "       [2.88214662, 2.94493075, 1.97813687, 4.06551157, 7.2752073 ,\n",
       "        0.68596879, 0.        , 5.28773283, 1.0248863 ],\n",
       "       [2.40592299, 5.43867229, 3.61028733, 1.23314849, 2.21997246,\n",
       "        4.91627049, 5.28773283, 0.        , 6.31250573],\n",
       "       [3.90676615, 3.34447945, 2.93990171, 5.08930895, 8.29087058,\n",
       "        1.53792246, 1.0248863 , 6.31250573, 0.        ]])"
      ]
     },
     "execution_count": 23,
     "metadata": {},
     "output_type": "execute_result"
    }
   ],
   "source": [
    "from scipy.special import comb\n",
    "#print(comb(9,2))\n",
    "\n",
    "from scipy.spatial.distance import pdist, squareform\n",
    "#pdist(X3)\n",
    "squareform(pdist(X3))"
   ]
  },
  {
   "cell_type": "code",
   "execution_count": null,
   "metadata": {},
   "outputs": [],
   "source": []
  }
 ],
 "metadata": {
  "celltoolbar": "Slideshow",
  "hide_input": false,
  "kernelspec": {
   "display_name": "Python 3",
   "language": "python",
   "name": "python3"
  },
  "language_info": {
   "codemirror_mode": {
    "name": "ipython",
    "version": 3
   },
   "file_extension": ".py",
   "mimetype": "text/x-python",
   "name": "python",
   "nbconvert_exporter": "python",
   "pygments_lexer": "ipython3",
   "version": "3.7.4"
  },
  "latex_envs": {
   "LaTeX_envs_menu_present": true,
   "autoclose": false,
   "autocomplete": true,
   "bibliofile": "biblio.bib",
   "cite_by": "apalike",
   "current_citInitial": 1,
   "eqLabelWithNumbers": true,
   "eqNumInitial": 1,
   "hotkeys": {
    "equation": "Ctrl-E",
    "itemize": "Ctrl-I"
   },
   "labels_anchors": false,
   "latex_user_defs": false,
   "report_style_numbering": false,
   "user_envs_cfg": false
  }
 },
 "nbformat": 4,
 "nbformat_minor": 2
}
